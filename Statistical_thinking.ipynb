{
  "nbformat": 4,
  "nbformat_minor": 0,
  "metadata": {
    "kernelspec": {
      "display_name": "Python 3",
      "language": "python",
      "name": "python3"
    },
    "language_info": {
      "codemirror_mode": {
        "name": "ipython",
        "version": 3
      },
      "file_extension": ".py",
      "mimetype": "text/x-python",
      "name": "python",
      "nbconvert_exporter": "python",
      "pygments_lexer": "ipython3",
      "version": "3.7.4"
    },
    "colab": {
      "name": "Statistical thinking.ipynb",
      "provenance": [],
      "toc_visible": true
    }
  },
  "cells": [
    {
      "cell_type": "code",
      "metadata": {
        "id": "nrmqndevN7GS",
        "colab_type": "code",
        "colab": {}
      },
      "source": [
        "# Importing necessary libraries\n",
        "import numpy as np\n",
        "import pandas as pd\n",
        "import matplotlib.pyplot as plt\n",
        "import seaborn as sns\n",
        "from sklearn import datasets"
      ],
      "execution_count": 0,
      "outputs": []
    },
    {
      "cell_type": "code",
      "metadata": {
        "id": "SADaT7KyN7GX",
        "colab_type": "code",
        "colab": {}
      },
      "source": [
        "iris = datasets.load_iris()"
      ],
      "execution_count": 0,
      "outputs": []
    },
    {
      "cell_type": "code",
      "metadata": {
        "id": "dnbSqayrN7Gb",
        "colab_type": "code",
        "colab": {
          "base_uri": "https://localhost:8080/",
          "height": 34
        },
        "outputId": "2e5bf35b-c814-4f0b-b1d0-6fadf6cae205"
      },
      "source": [
        "iris.data[1]"
      ],
      "execution_count": 3,
      "outputs": [
        {
          "output_type": "execute_result",
          "data": {
            "text/plain": [
              "array([4.9, 3. , 1.4, 0.2])"
            ]
          },
          "metadata": {
            "tags": []
          },
          "execution_count": 3
        }
      ]
    },
    {
      "cell_type": "code",
      "metadata": {
        "id": "UMXYA6jDN7Gf",
        "colab_type": "code",
        "colab": {
          "base_uri": "https://localhost:8080/",
          "height": 134
        },
        "outputId": "e831cd21-1c72-4ce5-ba3b-b82825970b69"
      },
      "source": [
        "iris.target"
      ],
      "execution_count": 4,
      "outputs": [
        {
          "output_type": "execute_result",
          "data": {
            "text/plain": [
              "array([0, 0, 0, 0, 0, 0, 0, 0, 0, 0, 0, 0, 0, 0, 0, 0, 0, 0, 0, 0, 0, 0,\n",
              "       0, 0, 0, 0, 0, 0, 0, 0, 0, 0, 0, 0, 0, 0, 0, 0, 0, 0, 0, 0, 0, 0,\n",
              "       0, 0, 0, 0, 0, 0, 1, 1, 1, 1, 1, 1, 1, 1, 1, 1, 1, 1, 1, 1, 1, 1,\n",
              "       1, 1, 1, 1, 1, 1, 1, 1, 1, 1, 1, 1, 1, 1, 1, 1, 1, 1, 1, 1, 1, 1,\n",
              "       1, 1, 1, 1, 1, 1, 1, 1, 1, 1, 1, 1, 2, 2, 2, 2, 2, 2, 2, 2, 2, 2,\n",
              "       2, 2, 2, 2, 2, 2, 2, 2, 2, 2, 2, 2, 2, 2, 2, 2, 2, 2, 2, 2, 2, 2,\n",
              "       2, 2, 2, 2, 2, 2, 2, 2, 2, 2, 2, 2, 2, 2, 2, 2, 2, 2])"
            ]
          },
          "metadata": {
            "tags": []
          },
          "execution_count": 4
        }
      ]
    },
    {
      "cell_type": "code",
      "metadata": {
        "id": "3NOBFV9QN7Gi",
        "colab_type": "code",
        "colab": {}
      },
      "source": [
        "# loading sklearn dataset as pandas dataset\n",
        "df = pd.DataFrame(data= np.c_[iris['data'], iris['target']],columns= iris['feature_names'] + ['target'])"
      ],
      "execution_count": 0,
      "outputs": []
    },
    {
      "cell_type": "code",
      "metadata": {
        "id": "oixcEjWyN7Gl",
        "colab_type": "code",
        "colab": {
          "base_uri": "https://localhost:8080/",
          "height": 195
        },
        "outputId": "fedcc4f6-161e-4436-a9ce-5bfccb925411"
      },
      "source": [
        "df.head()"
      ],
      "execution_count": 6,
      "outputs": [
        {
          "output_type": "execute_result",
          "data": {
            "text/html": [
              "<div>\n",
              "<style scoped>\n",
              "    .dataframe tbody tr th:only-of-type {\n",
              "        vertical-align: middle;\n",
              "    }\n",
              "\n",
              "    .dataframe tbody tr th {\n",
              "        vertical-align: top;\n",
              "    }\n",
              "\n",
              "    .dataframe thead th {\n",
              "        text-align: right;\n",
              "    }\n",
              "</style>\n",
              "<table border=\"1\" class=\"dataframe\">\n",
              "  <thead>\n",
              "    <tr style=\"text-align: right;\">\n",
              "      <th></th>\n",
              "      <th>sepal length (cm)</th>\n",
              "      <th>sepal width (cm)</th>\n",
              "      <th>petal length (cm)</th>\n",
              "      <th>petal width (cm)</th>\n",
              "      <th>target</th>\n",
              "    </tr>\n",
              "  </thead>\n",
              "  <tbody>\n",
              "    <tr>\n",
              "      <th>0</th>\n",
              "      <td>5.1</td>\n",
              "      <td>3.5</td>\n",
              "      <td>1.4</td>\n",
              "      <td>0.2</td>\n",
              "      <td>0.0</td>\n",
              "    </tr>\n",
              "    <tr>\n",
              "      <th>1</th>\n",
              "      <td>4.9</td>\n",
              "      <td>3.0</td>\n",
              "      <td>1.4</td>\n",
              "      <td>0.2</td>\n",
              "      <td>0.0</td>\n",
              "    </tr>\n",
              "    <tr>\n",
              "      <th>2</th>\n",
              "      <td>4.7</td>\n",
              "      <td>3.2</td>\n",
              "      <td>1.3</td>\n",
              "      <td>0.2</td>\n",
              "      <td>0.0</td>\n",
              "    </tr>\n",
              "    <tr>\n",
              "      <th>3</th>\n",
              "      <td>4.6</td>\n",
              "      <td>3.1</td>\n",
              "      <td>1.5</td>\n",
              "      <td>0.2</td>\n",
              "      <td>0.0</td>\n",
              "    </tr>\n",
              "    <tr>\n",
              "      <th>4</th>\n",
              "      <td>5.0</td>\n",
              "      <td>3.6</td>\n",
              "      <td>1.4</td>\n",
              "      <td>0.2</td>\n",
              "      <td>0.0</td>\n",
              "    </tr>\n",
              "  </tbody>\n",
              "</table>\n",
              "</div>"
            ],
            "text/plain": [
              "   sepal length (cm)  sepal width (cm)  ...  petal width (cm)  target\n",
              "0                5.1               3.5  ...               0.2     0.0\n",
              "1                4.9               3.0  ...               0.2     0.0\n",
              "2                4.7               3.2  ...               0.2     0.0\n",
              "3                4.6               3.1  ...               0.2     0.0\n",
              "4                5.0               3.6  ...               0.2     0.0\n",
              "\n",
              "[5 rows x 5 columns]"
            ]
          },
          "metadata": {
            "tags": []
          },
          "execution_count": 6
        }
      ]
    },
    {
      "cell_type": "code",
      "metadata": {
        "id": "jzMxYCsuN7Gr",
        "colab_type": "code",
        "colab": {}
      },
      "source": [
        "# converting the target column to give species names\n",
        "def species(col):\n",
        "    if col == 0:\n",
        "        spec = 'setosa'\n",
        "    elif col ==1:\n",
        "        spec='versicolor'\n",
        "    else: spec = 'virginica'\n",
        "    return spec\n",
        "\n",
        "# applying the species function to pandas column\n",
        "df['species'] = df['target'].apply(species)\n",
        "\n",
        "# dropping the target column\n",
        "df.drop(columns = 'target',inplace = True)"
      ],
      "execution_count": 0,
      "outputs": []
    },
    {
      "cell_type": "code",
      "metadata": {
        "id": "XgcJpqY6N7Gz",
        "colab_type": "code",
        "colab": {
          "base_uri": "https://localhost:8080/",
          "height": 195
        },
        "outputId": "70fa58f9-eabd-4e5f-8bdd-53a4e83251ac"
      },
      "source": [
        "df.head()"
      ],
      "execution_count": 8,
      "outputs": [
        {
          "output_type": "execute_result",
          "data": {
            "text/html": [
              "<div>\n",
              "<style scoped>\n",
              "    .dataframe tbody tr th:only-of-type {\n",
              "        vertical-align: middle;\n",
              "    }\n",
              "\n",
              "    .dataframe tbody tr th {\n",
              "        vertical-align: top;\n",
              "    }\n",
              "\n",
              "    .dataframe thead th {\n",
              "        text-align: right;\n",
              "    }\n",
              "</style>\n",
              "<table border=\"1\" class=\"dataframe\">\n",
              "  <thead>\n",
              "    <tr style=\"text-align: right;\">\n",
              "      <th></th>\n",
              "      <th>sepal length (cm)</th>\n",
              "      <th>sepal width (cm)</th>\n",
              "      <th>petal length (cm)</th>\n",
              "      <th>petal width (cm)</th>\n",
              "      <th>species</th>\n",
              "    </tr>\n",
              "  </thead>\n",
              "  <tbody>\n",
              "    <tr>\n",
              "      <th>0</th>\n",
              "      <td>5.1</td>\n",
              "      <td>3.5</td>\n",
              "      <td>1.4</td>\n",
              "      <td>0.2</td>\n",
              "      <td>setosa</td>\n",
              "    </tr>\n",
              "    <tr>\n",
              "      <th>1</th>\n",
              "      <td>4.9</td>\n",
              "      <td>3.0</td>\n",
              "      <td>1.4</td>\n",
              "      <td>0.2</td>\n",
              "      <td>setosa</td>\n",
              "    </tr>\n",
              "    <tr>\n",
              "      <th>2</th>\n",
              "      <td>4.7</td>\n",
              "      <td>3.2</td>\n",
              "      <td>1.3</td>\n",
              "      <td>0.2</td>\n",
              "      <td>setosa</td>\n",
              "    </tr>\n",
              "    <tr>\n",
              "      <th>3</th>\n",
              "      <td>4.6</td>\n",
              "      <td>3.1</td>\n",
              "      <td>1.5</td>\n",
              "      <td>0.2</td>\n",
              "      <td>setosa</td>\n",
              "    </tr>\n",
              "    <tr>\n",
              "      <th>4</th>\n",
              "      <td>5.0</td>\n",
              "      <td>3.6</td>\n",
              "      <td>1.4</td>\n",
              "      <td>0.2</td>\n",
              "      <td>setosa</td>\n",
              "    </tr>\n",
              "  </tbody>\n",
              "</table>\n",
              "</div>"
            ],
            "text/plain": [
              "   sepal length (cm)  sepal width (cm)  ...  petal width (cm)  species\n",
              "0                5.1               3.5  ...               0.2   setosa\n",
              "1                4.9               3.0  ...               0.2   setosa\n",
              "2                4.7               3.2  ...               0.2   setosa\n",
              "3                4.6               3.1  ...               0.2   setosa\n",
              "4                5.0               3.6  ...               0.2   setosa\n",
              "\n",
              "[5 rows x 5 columns]"
            ]
          },
          "metadata": {
            "tags": []
          },
          "execution_count": 8
        }
      ]
    },
    {
      "cell_type": "markdown",
      "metadata": {
        "id": "S4sQNIzeN7GW",
        "colab_type": "text"
      },
      "source": [
        "## **Exploratory Data Analysis**"
      ]
    },
    {
      "cell_type": "code",
      "metadata": {
        "id": "k8Umz3xnN7G3",
        "colab_type": "code",
        "colab": {
          "base_uri": "https://localhost:8080/",
          "height": 279
        },
        "outputId": "60dfdf39-8723-470f-a39c-3c58a47e1c46"
      },
      "source": [
        "# plotting the sepal length using matplotlib\n",
        "plt.hist(df['petal length (cm)'])\n",
        "plt.xlabel('length of petals')\n",
        "plt.ylabel('count')\n",
        "plt.show()"
      ],
      "execution_count": 9,
      "outputs": [
        {
          "output_type": "display_data",
          "data": {
            "image/png": "[encoded data removed]",
            "text/plain": [
              "<Figure size 432x288 with 1 Axes>"
            ]
          },
          "metadata": {
            "tags": []
          }
        }
      ]
    },
    {
      "cell_type": "code",
      "metadata": {
        "id": "dlImsHtrN7G7",
        "colab_type": "code",
        "colab": {
          "base_uri": "https://localhost:8080/",
          "height": 285
        },
        "outputId": "2ebc8c4d-781e-40d4-8079-31954799510c"
      },
      "source": [
        "# setting seaborn styling to matplotlib plots\n",
        "sns.set()\n",
        "plt.hist(df['petal length (cm)'])\n",
        "plt.xlabel('length of petals')\n",
        "plt.ylabel('count')\n",
        "plt.show()"
      ],
      "execution_count": 10,
      "outputs": [
        {
          "output_type": "display_data",
          "data": {
            "image/png": "[encoded data removed]",
            "text/plain": [
              "<Figure size 432x288 with 1 Axes>"
            ]
          },
          "metadata": {
            "tags": []
          }
        }
      ]
    },
    {
      "cell_type": "code",
      "metadata": {
        "id": "H_rS5KbIN7G-",
        "colab_type": "code",
        "colab": {
          "base_uri": "https://localhost:8080/",
          "height": 285
        },
        "outputId": "08b9403c-7875-4e14-c4c7-68b787206d3b"
      },
      "source": [
        "# Create bee swarm plot with Seaborn's default settings\n",
        "sns.swarmplot(x = 'species',y='petal length (cm)', data = df)\n",
        "plt.xlabel('different species')\n",
        "plt.ylabel('petal lengths (cm)')\n",
        "plt.show()"
      ],
      "execution_count": 11,
      "outputs": [
        {
          "output_type": "display_data",
          "data": {
            "image/png": "[encoded data removed]",
            "text/plain": [
              "<Figure size 432x288 with 1 Axes>"
            ]
          },
          "metadata": {
            "tags": []
          }
        }
      ]
    },
    {
      "cell_type": "markdown",
      "metadata": {
        "id": "nw_wsivdOOzv",
        "colab_type": "text"
      },
      "source": [
        "**Iris virginica petals tend to be the longest, and Iris setosa petals tend to be the shortest of the three species.**"
      ]
    },
    {
      "cell_type": "code",
      "metadata": {
        "id": "aG3ekhADN7HB",
        "colab_type": "code",
        "colab": {}
      },
      "source": [
        "# Plotting Emphirical cumulative distribution\n",
        "\n",
        "def ecdf(data):\n",
        "    \"\"\"Compute ECDF for a one-dimensional array of measurements.\"\"\"\n",
        "    # Number of data points: n\n",
        "    n = len(data)\n",
        "    # x-data for the ECDF: x\n",
        "    x = np.sort(data)\n",
        "    # y-data for the ECDF: y\n",
        "    y = np.arange(1,n+1) / n\n",
        "    return x, y\n"
      ],
      "execution_count": 0,
      "outputs": []
    },
    {
      "cell_type": "code",
      "metadata": {
        "id": "fcjkusDQN7HE",
        "colab_type": "code",
        "colab": {
          "base_uri": "https://localhost:8080/",
          "height": 285
        },
        "outputId": "f11e7b4c-0193-49d6-962d-b672fb90c66c"
      },
      "source": [
        "# Compute ECDF for petal length: x_vers, y_vers\n",
        "x, y = ecdf(df['petal length (cm)'])\n",
        "\n",
        "# Generate plot\n",
        "plt.plot(x,y,marker='.',linestyle='none')\n",
        "\n",
        "# Label the axes\n",
        "plt.xlabel('petal lengths')\n",
        "plt.ylabel('ECDF')\n",
        "\n",
        "# Display the plot\n",
        "plt.show()\n"
      ],
      "execution_count": 13,
      "outputs": [
        {
          "output_type": "display_data",
          "data": {
            "image/png": "[encoded data removed]",
            "text/plain": [
              "<Figure size 432x288 with 1 Axes>"
            ]
          },
          "metadata": {
            "tags": []
          }
        }
      ]
    },
    {
      "cell_type": "code",
      "metadata": {
        "id": "2Pm-LayON7HH",
        "colab_type": "code",
        "colab": {
          "base_uri": "https://localhost:8080/",
          "height": 285
        },
        "outputId": "00f8a07a-1dcb-40cd-9bd0-96e936c4c67b"
      },
      "source": [
        "# plotting the ECDF by differentiating species\n",
        "\n",
        "setosa_petal_length = df[df['species']=='setosa']['petal length (cm)']\n",
        "versicolor_petal_length = df[df['species']=='versicolor']['petal length (cm)']\n",
        "virginica_petal_length = df[df['species']=='virginica']['petal length (cm)']\n",
        "\n",
        "# Compute ECDFs\n",
        "x_set, y_set = ecdf(setosa_petal_length)\n",
        "x_vers, y_vers = ecdf(versicolor_petal_length)\n",
        "x_virg, y_virg = ecdf(virginica_petal_length)\n",
        "\n",
        "# Plot all ECDFs on the same plot\n",
        "plt.plot(x_set, y_set,marker='.',linestyle='none')\n",
        "plt.plot(x_vers,y_vers,marker='.',linestyle='none')\n",
        "plt.plot(x_virg, y_virg,marker='.',linestyle='none')\n",
        "\n",
        "\n",
        "# Annotate the plot\n",
        "plt.legend(('setosa', 'versicolor', 'virginica'), loc='lower right')\n",
        "plt.xlabel('petal length (cm)')\n",
        "plt.ylabel('ECDF')\n",
        "\n",
        "# Display the plot\n",
        "plt.show()"
      ],
      "execution_count": 14,
      "outputs": [
        {
          "output_type": "display_data",
          "data": {
            "image/png": "[encoded data removed]",
            "text/plain": [
              "<Figure size 432x288 with 1 Axes>"
            ]
          },
          "metadata": {
            "tags": []
          }
        }
      ]
    },
    {
      "cell_type": "markdown",
      "metadata": {
        "id": "8wJo-WSmODeu",
        "colab_type": "text"
      },
      "source": [
        "**The ECDFs expose clear differences among the species. Setosa is much shorter, also with less absolute variability in petal length than versicolor and virginica.**"
      ]
    },
    {
      "cell_type": "markdown",
      "metadata": {
        "id": "Nc8wTEVFOu9d",
        "colab_type": "text"
      },
      "source": [
        "# **Summary Statistics**"
      ]
    },
    {
      "cell_type": "code",
      "metadata": {
        "id": "OdMfAC_gN7HM",
        "colab_type": "code",
        "colab": {
          "base_uri": "https://localhost:8080/",
          "height": 34
        },
        "outputId": "7ef0c5b1-b6ed-4fae-be6a-e6dca6409bec"
      },
      "source": [
        "# Compute the mean: mean_length_vers\n",
        "mean_length_vers = np.mean(versicolor_petal_length)\n",
        "\n",
        "print('Iris versicolor:', mean_length_vers, 'cm')"
      ],
      "execution_count": 15,
      "outputs": [
        {
          "output_type": "stream",
          "text": [
            "I. versicolor: 4.26 cm\n"
          ],
          "name": "stdout"
        }
      ]
    },
    {
      "cell_type": "code",
      "metadata": {
        "id": "7VZ6R71JN7HO",
        "colab_type": "code",
        "colab": {
          "base_uri": "https://localhost:8080/",
          "height": 34
        },
        "outputId": "6cda2051-4fa0-44b7-8015-68d69f8eab64"
      },
      "source": [
        "# Specify array of percentiles: percentiles\n",
        "percentiles = np.array([2.5,25,50,75,97.5])\n",
        "\n",
        "# Compute percentiles: ptiles_vers\n",
        "ptiles_vers = np.percentile(versicolor_petal_length,percentiles)\n",
        "print('Petal lengths at',percentiles,' percentiles are',ptiles_vers)"
      ],
      "execution_count": 17,
      "outputs": [
        {
          "output_type": "stream",
          "text": [
            "Petal lengths at [ 2.5 25.  50.  75.  97.5]  percentiles are [3.3    4.     4.35   4.6    4.9775]\n"
          ],
          "name": "stdout"
        }
      ]
    },
    {
      "cell_type": "code",
      "metadata": {
        "id": "Z5FhalWzN7HQ",
        "colab_type": "code",
        "colab": {
          "base_uri": "https://localhost:8080/",
          "height": 285
        },
        "outputId": "8845c34e-5e45-4722-f905-73e6aa8811ad"
      },
      "source": [
        "# Plot the ECDF to see the quantiles\n",
        "plt.plot(x_vers, y_vers, '.')\n",
        "plt.xlabel('petal length (cm)')\n",
        "plt.ylabel('ECDF')\n",
        "\n",
        "# Overlay percentiles as red diamonds.\n",
        "plt.plot(ptiles_vers, percentiles/100, marker='D', color='red',linestyle='none')\n",
        "\n",
        "plt.show()"
      ],
      "execution_count": 18,
      "outputs": [
        {
          "output_type": "display_data",
          "data": {
            "image/png": "[encoded data removed]",
            "text/plain": [
              "<Figure size 432x288 with 1 Axes>"
            ]
          },
          "metadata": {
            "tags": []
          }
        }
      ]
    },
    {
      "cell_type": "code",
      "metadata": {
        "id": "zvZAfCvaxXqb",
        "colab_type": "code",
        "colab": {
          "base_uri": "https://localhost:8080/",
          "height": 285
        },
        "outputId": "f5dfaec8-1fd4-4881-94b5-638d5efa99fe"
      },
      "source": [
        "# Create box plot with Seaborn's default settings\n",
        "sns.boxplot(x='species', y='petal length (cm)', data=df)\n",
        "\n",
        "plt.xlabel('species')\n",
        "plt.ylabel('petal length (cm)')\n",
        "plt.show()"
      ],
      "execution_count": 19,
      "outputs": [
        {
          "output_type": "display_data",
          "data": {
            "image/png": "[encoded data removed]",
            "text/plain": [
              "<Figure size 432x288 with 1 Axes>"
            ]
          },
          "metadata": {
            "tags": []
          }
        }
      ]
    },
    {
      "cell_type": "markdown",
      "metadata": {
        "id": "wydNWPatx1ND",
        "colab_type": "text"
      },
      "source": [
        "**These box plots shows that the petal length of setosa is the least and virginica is highest**"
      ]
    },
    {
      "cell_type": "code",
      "metadata": {
        "id": "tp00v8iwyI51",
        "colab_type": "code",
        "colab": {
          "base_uri": "https://localhost:8080/",
          "height": 50
        },
        "outputId": "7f62d337-7c0d-4dd2-96cb-c9f5e5a1e43a"
      },
      "source": [
        "# Array of differences to mean: differences\n",
        "differences = versicolor_petal_length - np.mean(versicolor_petal_length)\n",
        "\n",
        "# Square the differences: diff_sq\n",
        "diff_sq = [x**2 for x in differences]\n",
        "\n",
        "# Compute the mean square difference: variance_explicit\n",
        "variance_explicit = np.mean(diff_sq)\n",
        "\n",
        "# Compute the variance using NumPy: variance_np\n",
        "variance_np = np.var(versicolor_petal_length)\n",
        "\n",
        "# Print the results\n",
        "print('The actual variance is',variance_np)\n",
        "print('The calculated variance is',variance_explicit)\n"
      ],
      "execution_count": 23,
      "outputs": [
        {
          "output_type": "stream",
          "text": [
            "The actual variance is 0.21640000000000012\n",
            "The calculated variance is 0.21640000000000004\n"
          ],
          "name": "stdout"
        }
      ]
    },
    {
      "cell_type": "code",
      "metadata": {
        "id": "qVNUItRIyI_-",
        "colab_type": "code",
        "colab": {
          "base_uri": "https://localhost:8080/",
          "height": 50
        },
        "outputId": "5827722f-ae1e-414a-d3eb-c2060ea207ab"
      },
      "source": [
        "# Compute the variance: variance\n",
        "variance= np.var(versicolor_petal_length)\n",
        "\n",
        "# Print the square root of the variance\n",
        "print('The calculated standard deviation is', np.sqrt(variance))\n",
        "\n",
        "# Print the standard deviation\n",
        "print('The actual standard deviation is',np.std(versicolor_petal_length))"
      ],
      "execution_count": 22,
      "outputs": [
        {
          "output_type": "stream",
          "text": [
            "The calculated standard deviation is 0.4651881339845204\n",
            "The actual standard deviation is 0.4651881339845204\n"
          ],
          "name": "stdout"
        }
      ]
    },
    {
      "cell_type": "code",
      "metadata": {
        "id": "c17af3mYyJDO",
        "colab_type": "code",
        "colab": {
          "base_uri": "https://localhost:8080/",
          "height": 285
        },
        "outputId": "74cc55bb-b17b-4430-e2f7-910d8511aa25"
      },
      "source": [
        "versicolor_petal_width = df[df['species']=='versicolor']['petal width (cm)']\n",
        "# Make a scatter plot\n",
        "plt.plot(versicolor_petal_length,versicolor_petal_width,marker='.',linestyle='none')\n",
        "\n",
        "plt.xlabel(' Versicolor petal length')\n",
        "plt.ylabel('Versicolor petal width')\n",
        "plt.show()"
      ],
      "execution_count": 26,
      "outputs": [
        {
          "output_type": "display_data",
          "data": {
            "image/png": "[encoded data removed]",
            "text/plain": [
              "<Figure size 432x288 with 1 Axes>"
            ]
          },
          "metadata": {
            "tags": []
          }
        }
      ]
    },
    {
      "cell_type": "markdown",
      "metadata": {
        "id": "PG_RQUp4y7rL",
        "colab_type": "text"
      },
      "source": [
        "**Indeed, we see some correlation. Longer petals also tend to be wider.**"
      ]
    },
    {
      "cell_type": "code",
      "metadata": {
        "id": "2J8s5IatzAA_",
        "colab_type": "code",
        "colab": {
          "base_uri": "https://localhost:8080/",
          "height": 84
        },
        "outputId": "5b12ba15-2e6b-4948-ca40-74bd1b7100cd"
      },
      "source": [
        "# Compute the covariance matrix: covariance_matrix\n",
        "covariance_matrix = np.cov(versicolor_petal_length, versicolor_petal_width)\n",
        "\n",
        "# Print covariance matrix\n",
        "print('The covariance matric is: \\n', covariance_matrix)\n",
        "\n",
        "# Extract covariance of length and width of petals: petal_cov\n",
        "petal_cov = covariance_matrix[0,1]\n",
        "\n",
        "# Print the length/width covariance\n",
        "print('The covariance between petal length & width is',petal_cov)\n"
      ],
      "execution_count": 30,
      "outputs": [
        {
          "output_type": "stream",
          "text": [
            "The covariance matric is: \n",
            " [[0.22081633 0.07310204]\n",
            " [0.07310204 0.03910612]]\n",
            "The covariance between petal length & width is 0.07310204081632653\n"
          ],
          "name": "stdout"
        }
      ]
    },
    {
      "cell_type": "code",
      "metadata": {
        "id": "gmIAu0dRzY8A",
        "colab_type": "code",
        "colab": {
          "base_uri": "https://localhost:8080/",
          "height": 34
        },
        "outputId": "66df9200-e747-4cd7-946c-c83dea503b0b"
      },
      "source": [
        "def pearson_r(x, y):\n",
        "    # Compute correlation matrix: corr_mat\n",
        "    corr_mat = np.corrcoef(x, y)\n",
        "    return corr_mat[0,1]\n",
        "\n",
        "# Compute Pearson correlation coefficient for Iris versicolor\n",
        "r = pearson_r(versicolor_petal_width, versicolor_petal_length)\n",
        "\n",
        "print('The Pearson correlation coefficient between Petal length and width is:',r)"
      ],
      "execution_count": 31,
      "outputs": [
        {
          "output_type": "stream",
          "text": [
            "The Pearson correlation coefficient between Petal length and width is: 0.7866680885228169\n"
          ],
          "name": "stdout"
        }
      ]
    },
    {
      "cell_type": "markdown",
      "metadata": {
        "id": "wC1xwxNgz_gO",
        "colab_type": "text"
      },
      "source": [
        "# **Thinking Probabilistically**\n",
        "1. Bernouli distribution\n",
        "2. Binomial distribution\n",
        "3. Poisson distribution\n",
        "4. Normal distribution\n",
        "5. Exponential distribution"
      ]
    },
    {
      "cell_type": "markdown",
      "metadata": {
        "id": "o1AtRPVSNRbt",
        "colab_type": "text"
      },
      "source": [
        "# 1. Bernouli distribution"
      ]
    },
    {
      "cell_type": "code",
      "metadata": {
        "id": "8BEFWy72zZBu",
        "colab_type": "code",
        "colab": {
          "base_uri": "https://localhost:8080/",
          "height": 268
        },
        "outputId": "01942f11-58b4-42b8-a0d0-308ac7b08d22"
      },
      "source": [
        "# Seed the random number generator\n",
        "np.random.seed(42)\n",
        "\n",
        "# Initialize random numbers: random_numbers\n",
        "random_numbers = np.empty(100000)\n",
        "\n",
        "# Generate random numbers by looping over range(100000)\n",
        "for i in range(100000):\n",
        "    random_numbers[i] = np.random.random()\n",
        "\n",
        "# Plot a histogram\n",
        "plt.hist(random_numbers)\n",
        "plt.show()"
      ],
      "execution_count": 32,
      "outputs": [
        {
          "output_type": "display_data",
          "data": {
            "image/png": "[encoded data removed]",
            "text/plain": [
              "<Figure size 432x288 with 1 Axes>"
            ]
          },
          "metadata": {
            "tags": []
          }
        }
      ]
    },
    {
      "cell_type": "markdown",
      "metadata": {
        "id": "Ti9Vgyjw9gMc",
        "colab_type": "text"
      },
      "source": [
        "The histogram is almost exactly flat across the top, indicating that there is equal chance that a randomly-generated number is in any of the bins of the histogram."
      ]
    },
    {
      "cell_type": "code",
      "metadata": {
        "id": "bL62v5kQzZFE",
        "colab_type": "code",
        "colab": {}
      },
      "source": [
        "# Generating bernouli trials\n",
        "\n",
        "def perform_bernoulli_trials(n, p):\n",
        "    \"\"\"Perform n Bernoulli trials with success probability p and return number of successes.\"\"\"\n",
        "    # Initialize number of successes: n_success\n",
        "    n_success = 0\n",
        "\n",
        "    # Perform trials\n",
        "    for i in range(n):\n",
        "        # Choose random number between zero and one: random_number\n",
        "        random_number = np.random.random()\n",
        "\n",
        "        # If less than p, it's a success so add one to n_success\n",
        "        if random_number<p:\n",
        "            n_success+=1\n",
        "\n",
        "    return n_success\n"
      ],
      "execution_count": 0,
      "outputs": []
    },
    {
      "cell_type": "markdown",
      "metadata": {
        "id": "srcTCsA-NdHD",
        "colab_type": "text"
      },
      "source": [
        "**Problem: How many defaults might we expect?**"
      ]
    },
    {
      "cell_type": "markdown",
      "metadata": {
        "id": "o9QysSAx95cg",
        "colab_type": "text"
      },
      "source": [
        "For example, Let's say a bank made 100 mortgage loans. It is possible that anywhere between 0 and 100 of the loans will be defaulted upon. You would like to know the probability of getting a given number of defaults, given that the probability of a default is p = 0.05. To investigate this, you will do a simulation. You will perform 100 Bernoulli trials using the perform_bernoulli_trials()"
      ]
    },
    {
      "cell_type": "code",
      "metadata": {
        "id": "BrNSUr6L95GU",
        "colab_type": "code",
        "colab": {
          "base_uri": "https://localhost:8080/",
          "height": 335
        },
        "outputId": "66c48ad7-028c-4a97-8b58-eab4937890d0"
      },
      "source": [
        "# Seed random number generator\n",
        "np.random.seed(42)\n",
        "\n",
        "# Initialize the number of defaults: n_defaults\n",
        "n_defaults = np.empty(1000)\n",
        "\n",
        "# Compute the number of defaults\n",
        "for i in range(1000):\n",
        "    n_defaults[i] = perform_bernoulli_trials(100, 0.05)\n",
        "\n",
        "# Plot the histogram with default number of bins; label your axes\n",
        "plt.hist(n_defaults, normed=True)\n",
        "plt.xlabel('number of defaults out of 100 loans')\n",
        "plt.ylabel('probability')\n",
        "plt.show()"
      ],
      "execution_count": 35,
      "outputs": [
        {
          "output_type": "stream",
          "text": [
            "/usr/local/lib/python3.6/dist-packages/ipykernel_launcher.py:11: MatplotlibDeprecationWarning: \n",
            "The 'normed' kwarg was deprecated in Matplotlib 2.1 and will be removed in 3.1. Use 'density' instead.\n",
            "  # This is added back by InteractiveShellApp.init_path()\n"
          ],
          "name": "stderr"
        },
        {
          "output_type": "display_data",
          "data": {
            "image/png": "[encoded data removed]",
            "text/plain": [
              "<Figure size 432x288 with 1 Axes>"
            ]
          },
          "metadata": {
            "tags": []
          }
        }
      ]
    },
    {
      "cell_type": "markdown",
      "metadata": {
        "id": "485GHn29_Kgs",
        "colab_type": "text"
      },
      "source": [
        "**Problem:** If interest rates are such that the bank will lose money if 10 or more of its loans are defaulted upon, what is the probability that the bank will lose money?"
      ]
    },
    {
      "cell_type": "code",
      "metadata": {
        "id": "ifdm6Qm1-V2d",
        "colab_type": "code",
        "colab": {
          "base_uri": "https://localhost:8080/",
          "height": 302
        },
        "outputId": "700169b5-8888-4e9d-a380-a6b55a2630be"
      },
      "source": [
        "# Compute ECDF: x, y\n",
        "x, y = ecdf(n_defaults)\n",
        "\n",
        "# Plot the CDF with labeled axes\n",
        "plt.plot(x, y, marker='.', linestyle='none')\n",
        "plt.xlabel('number of defaults out of 100')\n",
        "plt.ylabel('CDF')\n",
        "plt.show()\n",
        "\n",
        "# Compute the number of 100-loan simulations with 10 or more defaults: n_lose_money\n",
        "n_lose_money = np.sum(n_defaults >= 10)\n",
        "\n",
        "# Compute and print probability of losing money\n",
        "print('Probability of losing money =', n_lose_money / len(n_defaults))\n"
      ],
      "execution_count": 36,
      "outputs": [
        {
          "output_type": "display_data",
          "data": {
            "image/png": "[encoded data removed]",
            "text/plain": [
              "<Figure size 432x288 with 1 Axes>"
            ]
          },
          "metadata": {
            "tags": []
          }
        },
        {
          "output_type": "stream",
          "text": [
            "Probability of losing money = 0.022\n"
          ],
          "name": "stdout"
        }
      ]
    },
    {
      "cell_type": "markdown",
      "metadata": {
        "id": "rF4RLUGH-0KE",
        "colab_type": "text"
      },
      "source": [
        "We most likely get 5/100 defaults(average). But we still have about a 2% chance of getting 10 or more defaults out of 100 loans."
      ]
    },
    {
      "cell_type": "markdown",
      "metadata": {
        "id": "BoyCTRR6_vnF",
        "colab_type": "text"
      },
      "source": [
        "Instead of simulating all of the Bernoulli trials, perform the sampling using np.random.binomial(). This is identical to the calculation you did previously using your custom-written perform_bernoulli_trials() function, but far more computationally efficient."
      ]
    },
    {
      "cell_type": "markdown",
      "metadata": {
        "id": "V0by1R6HOLHI",
        "colab_type": "text"
      },
      "source": [
        "# 2. Binomial distribtuion"
      ]
    },
    {
      "cell_type": "code",
      "metadata": {
        "id": "Mo-uvWcL-9wK",
        "colab_type": "code",
        "colab": {
          "base_uri": "https://localhost:8080/",
          "height": 285
        },
        "outputId": "b736b814-3f07-4e21-b801-b27312b50b7d"
      },
      "source": [
        "# Take 10,000 samples out of the binomial distribution: n_defaults\n",
        "n_defaults = np.random.binomial(n=100, p=0.05, size=10000)\n",
        "\n",
        "# Compute CDF: x, y\n",
        "x, y = ecdf(n_defaults)\n",
        "\n",
        "plt.plot(x, y, marker='.', linestyle='none')\n",
        "plt.xlabel('number of defaults out of 100 loans')\n",
        "plt.ylabel('CDF')\n",
        "plt.show()"
      ],
      "execution_count": 37,
      "outputs": [
        {
          "output_type": "display_data",
          "data": {
            "image/png": "[encoded data removed]",
            "text/plain": [
              "<Figure size 432x288 with 1 Axes>"
            ]
          },
          "metadata": {
            "tags": []
          }
        }
      ]
    },
    {
      "cell_type": "code",
      "metadata": {
        "id": "EPlIK-U5AJzI",
        "colab_type": "code",
        "colab": {
          "base_uri": "https://localhost:8080/",
          "height": 335
        },
        "outputId": "5d069296-0514-455f-c029-cd66a32006d2"
      },
      "source": [
        "# Compute bin edges: bins\n",
        "bins = np.arange(0, max(n_defaults) + 1.5) - 0.5\n",
        "\n",
        "# Generate histogram\n",
        "plt.hist(n_defaults, normed=True, bins=bins)\n",
        "plt.xlabel('number of defaults out of 100 loans')\n",
        "plt.ylabel('PMF')\n",
        "plt.show()"
      ],
      "execution_count": 38,
      "outputs": [
        {
          "output_type": "stream",
          "text": [
            "/usr/local/lib/python3.6/dist-packages/ipykernel_launcher.py:4: MatplotlibDeprecationWarning: \n",
            "The 'normed' kwarg was deprecated in Matplotlib 2.1 and will be removed in 3.1. Use 'density' instead.\n",
            "  after removing the cwd from sys.path.\n"
          ],
          "name": "stderr"
        },
        {
          "output_type": "display_data",
          "data": {
            "image/png": "[encoded data removed]",
            "text/plain": [
              "<Figure size 432x288 with 1 Axes>"
            ]
          },
          "metadata": {
            "tags": []
          }
        }
      ]
    },
    {
      "cell_type": "markdown",
      "metadata": {
        "id": "WFxgPsz9Oc8w",
        "colab_type": "text"
      },
      "source": [
        "# 3. Poisson distribution"
      ]
    },
    {
      "cell_type": "markdown",
      "metadata": {
        "id": "UsagN3JeN1wl",
        "colab_type": "text"
      },
      "source": [
        "**Relationship between Binomial and Poisson**"
      ]
    },
    {
      "cell_type": "markdown",
      "metadata": {
        "id": "EWC9JvxlA6j0",
        "colab_type": "text"
      },
      "source": [
        "Exploring the Binomial and poisson distributions computationally. I will compute the mean and standard deviation of samples from a Poisson distribution with an arrival rate of 10. Then, I will compute the mean and standard deviation of samples from a Binomial distribution with parameters n and p such that np=10."
      ]
    },
    {
      "cell_type": "code",
      "metadata": {
        "id": "6GPCm4UUAcfp",
        "colab_type": "code",
        "colab": {
          "base_uri": "https://localhost:8080/",
          "height": 84
        },
        "outputId": "19bf7274-f4cd-412b-d84e-80fb29ce8861"
      },
      "source": [
        "# Draw 10,000 samples out of Poisson distribution: samples_poisson\n",
        "samples_poisson = np.random.poisson(10, size=10000)\n",
        "\n",
        "# Print the mean and standard deviation\n",
        "print('Poisson mean and standard deviation: ', np.mean(samples_poisson),\n",
        "                       np.std(samples_poisson))\n",
        "\n",
        "# Specify values of n and p to consider for Binomial: n, p\n",
        "n = [20, 100, 1000]\n",
        "p = [0.5, 0.1, 0.01]\n",
        "\n",
        "# Draw 10,000 samples for each n,p pair: samples_binomial\n",
        "for i in range(3):\n",
        "    samples_binomial = np.random.binomial(n[i], p[i], size=10000)\n",
        "    print('n =', n[i], 'Binom:', np.mean(samples_binomial),np.std(samples_binomial))\n"
      ],
      "execution_count": 40,
      "outputs": [
        {
          "output_type": "stream",
          "text": [
            "Poisson mean and standard deviation:  10.0045 3.1633020326867305\n",
            "n = 20 Binom: 9.9846 2.2371774270271905\n",
            "n = 100 Binom: 9.9512 2.994831975253369\n",
            "n = 1000 Binom: 10.0644 3.160008329102947\n"
          ],
          "name": "stdout"
        }
      ]
    },
    {
      "cell_type": "markdown",
      "metadata": {
        "id": "ytHZsvzfBsSh",
        "colab_type": "text"
      },
      "source": [
        "The means are all about the same,the standard deviation of the Binomial distribution gets closer and closer to that of the Poisson distribution as the probability p gets lower and lower. Showing that, **Incase of rare events, binomial approximates poisson distribution**"
      ]
    },
    {
      "cell_type": "markdown",
      "metadata": {
        "id": "aLCfM9teCFn9",
        "colab_type": "text"
      },
      "source": [
        "**Problem : Was 2015 anomalous?**\n",
        "1990 and 2015 featured the most no-hitters of any season of baseball (there were seven). Given that there are on average 251/115 no-hitters per season, what is the probability of having seven or more in a season?"
      ]
    },
    {
      "cell_type": "code",
      "metadata": {
        "id": "D17eCKyqAdGm",
        "colab_type": "code",
        "colab": {
          "base_uri": "https://localhost:8080/",
          "height": 34
        },
        "outputId": "4eb2f902-645f-4e6a-d3ca-b0fc92635f11"
      },
      "source": [
        "# Draw 10,000 samples out of Poisson distribution: n_nohitters\n",
        "n_nohitters = np.random.poisson(251/115,size = 10000)\n",
        "\n",
        "# Compute number of samples that are seven or greater: n_large\n",
        "n_large = np.sum(n_nohitters>6)\n",
        "\n",
        "# Compute probability of getting seven or more: p_large\n",
        "p_large = n_large/10000\n",
        "\n",
        "print('Probability of seven or more no-hitters:', p_large)\n"
      ],
      "execution_count": 41,
      "outputs": [
        {
          "output_type": "stream",
          "text": [
            "Probability of seven or more no-hitters: 0.0067\n"
          ],
          "name": "stdout"
        }
      ]
    },
    {
      "cell_type": "markdown",
      "metadata": {
        "id": "DdRQmM3FCTlX",
        "colab_type": "text"
      },
      "source": [
        "The result is about 0.007. This means that it is not that improbable to see a 7-or-more no-hitter season in a century. We have seen two in a century and a half, so it is not unreasonable."
      ]
    },
    {
      "cell_type": "markdown",
      "metadata": {
        "id": "yf2r0_FZOm-d",
        "colab_type": "text"
      },
      "source": [
        "# 4. Normal distribution"
      ]
    },
    {
      "cell_type": "code",
      "metadata": {
        "id": "mfKST4NmCO8C",
        "colab_type": "code",
        "colab": {
          "base_uri": "https://localhost:8080/",
          "height": 419
        },
        "outputId": "e6911db1-799d-4d56-e0ce-c62826a1ce3e"
      },
      "source": [
        "# Draw 100000 samples from Normal distribution with stds of interest: samples_std1, samples_std3, samples_std10\n",
        "samples_std1 = np.random.normal(20, 1, size=100000)\n",
        "samples_std3 = np.random.normal(20, 3, size=100000)\n",
        "samples_std10 = np.random.normal(20, 10, size=100000)\n",
        "\n",
        "# Make histograms\n",
        "plt.hist(samples_std1, bins=100, normed=True, histtype='step')\n",
        "plt.hist(samples_std3, bins=100, normed=True, histtype='step')\n",
        "plt.hist(samples_std10, bins=100, normed=True, histtype='step')\n",
        "\n",
        "# Make a legend, set limits and show plot\n",
        "plt.legend(('std = 1', 'std = 3', 'std = 10'))\n",
        "plt.ylim(-0.01, 0.42)\n",
        "plt.show()\n"
      ],
      "execution_count": 42,
      "outputs": [
        {
          "output_type": "stream",
          "text": [
            "/usr/local/lib/python3.6/dist-packages/ipykernel_launcher.py:6: MatplotlibDeprecationWarning: \n",
            "The 'normed' kwarg was deprecated in Matplotlib 2.1 and will be removed in 3.1. Use 'density' instead.\n",
            "  \n",
            "/usr/local/lib/python3.6/dist-packages/ipykernel_launcher.py:7: MatplotlibDeprecationWarning: \n",
            "The 'normed' kwarg was deprecated in Matplotlib 2.1 and will be removed in 3.1. Use 'density' instead.\n",
            "  import sys\n",
            "/usr/local/lib/python3.6/dist-packages/ipykernel_launcher.py:8: MatplotlibDeprecationWarning: \n",
            "The 'normed' kwarg was deprecated in Matplotlib 2.1 and will be removed in 3.1. Use 'density' instead.\n",
            "  \n"
          ],
          "name": "stderr"
        },
        {
          "output_type": "display_data",
          "data": {
            "image/png": "[encoded data removed]",
            "text/plain": [
              "<Figure size 432x288 with 1 Axes>"
            ]
          },
          "metadata": {
            "tags": []
          }
        }
      ]
    },
    {
      "cell_type": "markdown",
      "metadata": {
        "id": "5US72sipIxXt",
        "colab_type": "text"
      },
      "source": [
        "You can see how the different standard deviations result in PDFs of different widths. The peaks are all centered at the mean of 20."
      ]
    },
    {
      "cell_type": "code",
      "metadata": {
        "id": "_Q3Nv3jSCO--",
        "colab_type": "code",
        "colab": {
          "base_uri": "https://localhost:8080/",
          "height": 268
        },
        "outputId": "c2d77a4a-0c47-41ba-a931-35d1ca97b6df"
      },
      "source": [
        "# Generate CDFs\n",
        "x_std1, y_std1 = ecdf(samples_std1)\n",
        "x_std3, y_std3 = ecdf(samples_std3)\n",
        "x_std10, y_std10 = ecdf(samples_std10)\n",
        "\n",
        "# Plot CDFs\n",
        "plt.plot(x_std1, y_std1, marker='.', linestyle='none')\n",
        "plt.plot(x_std3, y_std3, marker='.', linestyle='none')\n",
        "plt.plot(x_std10, y_std10, marker='.', linestyle='none')\n",
        "\n",
        "# Make a legend and show the plot\n",
        "plt.legend(('std = 1', 'std = 3', 'std = 10'), loc='lower right')\n",
        "plt.show()\n"
      ],
      "execution_count": 43,
      "outputs": [
        {
          "output_type": "display_data",
          "data": {
            "image/png": "[encoded data removed]",
            "text/plain": [
              "<Figure size 432x288 with 1 Axes>"
            ]
          },
          "metadata": {
            "tags": []
          }
        }
      ]
    },
    {
      "cell_type": "markdown",
      "metadata": {
        "id": "6vxXDbSkI8IE",
        "colab_type": "text"
      },
      "source": [
        "The CDFs all pass through the mean at the 50th percentile; the mean and median of a Normal distribution are equal. The width of the CDF varies with the standard deviation."
      ]
    },
    {
      "cell_type": "markdown",
      "metadata": {
        "id": "Qx3EvFSsJB19",
        "colab_type": "text"
      },
      "source": [
        "**Problem : Are the Belmont Stakes results Normally distributed?**\n"
      ]
    },
    {
      "cell_type": "markdown",
      "metadata": {
        "id": "_Md2TkDQJLKP",
        "colab_type": "text"
      },
      "source": [
        "Since 1926, the Belmont Stakes is a 1.5 mile-long race of 3-year old thoroughbred horses. Secretariat ran the fastest Belmont Stakes in history in 1973. While that was the fastest year, 1970 was the slowest because of unusually wet and sloppy conditions. With these two outliers removed from the data set, compute the mean and standard deviation of the Belmont winners' times. Sample out of a Normal distribution with this mean and standard deviation using the np.random.normal() function and plot a CDF. Overlay the ECDF from the winning Belmont times. Are these close to Normally distributed?"
      ]
    },
    {
      "cell_type": "code",
      "metadata": {
        "id": "HE-SJyMXCPCV",
        "colab_type": "code",
        "colab": {
          "base_uri": "https://localhost:8080/",
          "height": 285
        },
        "outputId": "8034ff4e-21d6-4b31-a8c1-6c101174cd9b"
      },
      "source": [
        "belmont_no_outliers = np.array([148.51, 146.65, 148.52, 150.7 , 150.42, 150.88, 151.57, 147.54,\n",
        "       149.65, 148.74, 147.86, 148.75, 147.5 , 148.26, 149.71, 146.56,\n",
        "       151.19, 147.88, 149.16, 148.82, 148.96, 152.02, 146.82, 149.97,\n",
        "       146.13, 148.1 , 147.2 , 146.  , 146.4 , 148.2 , 149.8 , 147.  ,\n",
        "       147.2 , 147.8 , 148.2 , 149.  , 149.8 , 148.6 , 146.8 , 149.6 ,\n",
        "       149.  , 148.2 , 149.2 , 148.  , 150.4 , 148.8 , 147.2 , 148.8 ,\n",
        "       149.6 , 148.4 , 148.4 , 150.2 , 148.8 , 149.2 , 149.2 , 148.4 ,\n",
        "       150.2 , 146.6 , 149.8 , 149.  , 150.8 , 148.6 , 150.2 , 149.  ,\n",
        "       148.6 , 150.2 , 148.2 , 149.4 , 150.8 , 150.2 , 152.2 , 148.2 ,\n",
        "       149.2 , 151.  , 149.6 , 149.6 , 149.4 , 148.6 , 150.  , 150.6 ,\n",
        "       149.2 , 152.6 , 152.8 , 149.6 , 151.6 , 152.8 , 153.2 , 152.4 ,\n",
        "       152.2 ])\n",
        "# Compute mean and standard deviation: mu, sigma\n",
        "mu = np.mean(belmont_no_outliers)\n",
        "sigma = np.std(belmont_no_outliers)\n",
        "\n",
        "# Sample out of a normal distribution with this mu and sigma: samples\n",
        "samples = np.random.normal(mu, sigma, size=10000)\n",
        "\n",
        "# Get the CDF of the samples and of the data\n",
        "x_theor, y_theor = ecdf(samples)\n",
        "x, y = ecdf(belmont_no_outliers)\n",
        "\n",
        "# Plot the CDFs and show the plot\n",
        "plt.plot(x_theor, y_theor)\n",
        "plt.plot(x, y, marker='.', linestyle='none')\n",
        "plt.xlabel('Belmont winning time (sec.)')\n",
        "plt.ylabel('CDF')\n",
        "plt.show()\n"
      ],
      "execution_count": 46,
      "outputs": [
        {
          "output_type": "display_data",
          "data": {
            "image/png": "[encoded data removed]",
            "text/plain": [
              "<Figure size 432x288 with 1 Axes>"
            ]
          },
          "metadata": {
            "tags": []
          }
        }
      ]
    },
    {
      "cell_type": "markdown",
      "metadata": {
        "id": "i0QbNIpmJ0vP",
        "colab_type": "text"
      },
      "source": [
        "The theoretical CDF and the ECDF of the data suggest that the winning Belmont times are, indeed, Normally distributed. This also suggests that in the last 100 years or so, there have not been major technological or training advances that have significantly affected the speed at which horses can run this race."
      ]
    },
    {
      "cell_type": "markdown",
      "metadata": {
        "id": "2hyKgQpMJ6SI",
        "colab_type": "text"
      },
      "source": [
        "**Problem : What are the chances of a horse matching or beating Secretariat's record?**"
      ]
    },
    {
      "cell_type": "markdown",
      "metadata": {
        "id": "Ef1U-KiOJ8_a",
        "colab_type": "text"
      },
      "source": [
        "Assume that the Belmont winners' times are Normally distributed (with the 1970 and 1973 years removed), what is the probability that the winner of a given Belmont Stakes will run it as fast or faster than Secretariat?"
      ]
    },
    {
      "cell_type": "code",
      "metadata": {
        "id": "CdVHE5XrJxxA",
        "colab_type": "code",
        "colab": {
          "base_uri": "https://localhost:8080/",
          "height": 34
        },
        "outputId": "2af96ec1-3f25-426f-9344-1f0b9d872a45"
      },
      "source": [
        "# Take a million samples out of the Normal distribution: samples\n",
        "samples = np.random.normal(mu, sigma, size=1000000)\n",
        "\n",
        "# Compute the fraction that are faster than 144 seconds: prob\n",
        "prob = np.sum(samples <= 144) / len(samples)\n",
        "\n",
        "# Print the result\n",
        "print('Probability of besting Secretariat:', prob)"
      ],
      "execution_count": 47,
      "outputs": [
        {
          "output_type": "stream",
          "text": [
            "Probability of besting Secretariat: 0.000603\n"
          ],
          "name": "stdout"
        }
      ]
    },
    {
      "cell_type": "markdown",
      "metadata": {
        "id": "LfRekqmhKaId",
        "colab_type": "text"
      },
      "source": [
        "We had to take a million samples because the probability of a fast time is very low and we had to be sure to sample enough. We get that there is only a 0.06% chance of a horse running the Belmont as fast as Secretariat."
      ]
    },
    {
      "cell_type": "markdown",
      "metadata": {
        "id": "bbkySmDcOyN5",
        "colab_type": "text"
      },
      "source": [
        "# 5. Exponential distribution"
      ]
    },
    {
      "cell_type": "markdown",
      "metadata": {
        "id": "DNMsolWlKr-O",
        "colab_type": "text"
      },
      "source": [
        "**Time between No-hitter and a hit of the cycle?**\n",
        "we looked at the rare event of no-hitters in Major League Baseball. Hitting the cycle is another rare baseball event. When a batter hits the cycle, he gets all four kinds of hits, a single, double, triple, and home run, in a single game. Like no-hitters, this can be modeled as a Poisson process, so the time between hits of the cycle are also Exponentially distributed."
      ]
    },
    {
      "cell_type": "code",
      "metadata": {
        "id": "dFO0RHvZJxtu",
        "colab_type": "code",
        "colab": {}
      },
      "source": [
        "def successive_poisson(tau1, tau2, size=1):\n",
        "    \"\"\"Compute time for arrival of 2 successive Poisson processes.\"\"\"\n",
        "    # Draw samples out of first exponential distribution: t1\n",
        "    t1 = np.random.exponential(tau1, size=size)\n",
        "\n",
        "    # Draw samples out of second exponential distribution: t2\n",
        "    t2 = np.random.exponential(tau2, size=size)\n",
        "\n",
        "    return t1 + t2"
      ],
      "execution_count": 0,
      "outputs": []
    },
    {
      "cell_type": "code",
      "metadata": {
        "id": "VKwjy-KDLES4",
        "colab_type": "code",
        "colab": {
          "base_uri": "https://localhost:8080/",
          "height": 335
        },
        "outputId": "6fbe14a4-cde6-47a8-ee19-2e2155aec11f"
      },
      "source": [
        "# Draw samples of waiting times\n",
        "waiting_times = successive_poisson(764, 715, size=100000)\n",
        "\n",
        "# Make the histogram\n",
        "plt.hist(waiting_times, bins=100, histtype='step',\n",
        "             normed=True)\n",
        "plt.xlabel('total waiting time (games)')\n",
        "plt.ylabel('PDF')\n",
        "plt.show()"
      ],
      "execution_count": 49,
      "outputs": [
        {
          "output_type": "stream",
          "text": [
            "/usr/local/lib/python3.6/dist-packages/ipykernel_launcher.py:5: MatplotlibDeprecationWarning: \n",
            "The 'normed' kwarg was deprecated in Matplotlib 2.1 and will be removed in 3.1. Use 'density' instead.\n",
            "  \"\"\"\n"
          ],
          "name": "stderr"
        },
        {
          "output_type": "display_data",
          "data": {
            "image/png": "[encoded data removed]",
            "text/plain": [
              "<Figure size 432x288 with 1 Axes>"
            ]
          },
          "metadata": {
            "tags": []
          }
        }
      ]
    },
    {
      "cell_type": "markdown",
      "metadata": {
        "id": "75pEbse4LUjB",
        "colab_type": "text"
      },
      "source": [
        "The PDF is peaked, unlike the waiting time for a single Poisson process."
      ]
    },
    {
      "cell_type": "code",
      "metadata": {
        "id": "IFgWIq2JLEct",
        "colab_type": "code",
        "colab": {
          "base_uri": "https://localhost:8080/",
          "height": 285
        },
        "outputId": "506f43b3-fbd8-437e-b1fb-3a179d764cc0"
      },
      "source": [
        "x, y = ecdf(waiting_times)\n",
        "plt.plot(x, y, marker='.', linestyle='none')\n",
        "plt.xlabel('Total waiting time (games)')\n",
        "plt.ylabel('CDF')\n",
        "plt.show()"
      ],
      "execution_count": 50,
      "outputs": [
        {
          "output_type": "display_data",
          "data": {
            "image/png": "[encoded data removed]",
            "text/plain": [
              "<Figure size 432x288 with 1 Axes>"
            ]
          },
          "metadata": {
            "tags": []
          }
        }
      ]
    }
  ]
}